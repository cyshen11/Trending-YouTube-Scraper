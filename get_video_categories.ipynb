{
 "cells": [
  {
   "cell_type": "code",
   "execution_count": 149,
   "metadata": {},
   "outputs": [],
   "source": [
    "import requests, sys, time, os, argparse"
   ]
  },
  {
   "cell_type": "code",
   "execution_count": 150,
   "metadata": {},
   "outputs": [],
   "source": [
    "# List of simple to collect features\n",
    "snippet_features = [\"title\"]"
   ]
  },
  {
   "cell_type": "code",
   "execution_count": 151,
   "metadata": {},
   "outputs": [],
   "source": [
    "# Any characters to exclude, generally these are things that become problematic in CSV files\n",
    "unsafe_characters = ['\\n', '\"']"
   ]
  },
  {
   "cell_type": "code",
   "execution_count": 152,
   "metadata": {},
   "outputs": [],
   "source": [
    "# Used to identify columns, currently hardcoded order\n",
    "header = [\"category_id\", \"category_title\", \"category_code\", \"date\"]"
   ]
  },
  {
   "cell_type": "code",
   "execution_count": 153,
   "metadata": {},
   "outputs": [],
   "source": [
    "def setup(api_path, code_path):\n",
    "    with open(api_path, 'r') as file:\n",
    "        api_key = file.readline()\n",
    "\n",
    "    with open(code_path) as file:\n",
    "        country_codes = [x.rstrip() for x in file]\n",
    "\n",
    "    return api_key, country_codes"
   ]
  },
  {
   "cell_type": "code",
   "execution_count": 154,
   "metadata": {},
   "outputs": [],
   "source": [
    "def prepare_feature(feature):\n",
    "    # Removes any character from the unsafe characters list and surrounds the whole item in quotes\n",
    "    for ch in unsafe_characters:\n",
    "        feature = str(feature).replace(ch, \"\")\n",
    "    return f'\"{feature}\"'"
   ]
  },
  {
   "cell_type": "code",
   "execution_count": 155,
   "metadata": {},
   "outputs": [],
   "source": [
    "api_path = './api_key.txt'\n",
    "code_path = './country_codes.txt'\n",
    "output_dir = 'output/'"
   ]
  },
  {
   "cell_type": "code",
   "execution_count": 156,
   "metadata": {},
   "outputs": [],
   "source": [
    "api_key, country_codes = setup(api_path, code_path)"
   ]
  },
  {
   "cell_type": "code",
   "execution_count": 157,
   "metadata": {},
   "outputs": [],
   "source": [
    "def api_request(country_code):\n",
    "    # Builds the URL and requests the JSON from it\n",
    "    request_url = f\"https://www.googleapis.com/youtube/v3/videoCategories?part=snippet&regionCode={country_code}&key={api_key}\"\n",
    "    request = requests.get(request_url)\n",
    "    if request.status_code == 429:\n",
    "        print(\"Temp-Banned due to excess requests, please wait and continue later\")\n",
    "        sys.exit()\n",
    "    return request.json()"
   ]
  },
  {
   "cell_type": "code",
   "execution_count": 158,
   "metadata": {},
   "outputs": [],
   "source": [
    "def get_categories(items, country_code):\n",
    "    lines = []\n",
    "    for category in items:\n",
    "    \n",
    "        category_id = prepare_feature(category['id'])\n",
    "\n",
    "        # Snippet and statistics are sub-dicts of video, containing the most useful info\n",
    "        snippet = category['snippet']\n",
    "\n",
    "        # This list contains all of the features in snippet that are 1 deep and require no special processing\n",
    "        features = [prepare_feature(snippet.get(feature, \"\")) for feature in snippet_features]\n",
    "        \n",
    "        date = prepare_feature(time.strftime(\"%y.%d.%m\"))\n",
    "        \n",
    "        # Compiles all of the various bits of info into one consistently formatted line\n",
    "        line = [category_id] + features + [country_code] + [date]\n",
    "        lines.append(\",\".join(line))\n",
    "        \n",
    "    return lines"
   ]
  },
  {
   "cell_type": "code",
   "execution_count": 159,
   "metadata": {},
   "outputs": [],
   "source": [
    "def get_pages(country_code):\n",
    "    country_data = []\n",
    "    \n",
    "    # A page of data i.e. a list of videos and all needed data\n",
    "    category_page = api_request(country_code)\n",
    "    \n",
    "    # Get all of the items as a list and let get_videos return the needed features\n",
    "    items = category_page.get('items', [])\n",
    "    country_data += get_categories(items, country_code)\n",
    "\n",
    "    return country_data"
   ]
  },
  {
   "cell_type": "code",
   "execution_count": 160,
   "metadata": {},
   "outputs": [],
   "source": [
    "def write_to_file(country_code, country_data):\n",
    "\n",
    "    print(f\"Writing {country_code} category to file...\")\n",
    "\n",
    "    if not os.path.exists(output_dir):\n",
    "        os.makedirs(output_dir)\n",
    "\n",
    "    with open(f\"{output_dir}/{time.strftime('%y.%d.%m')}_{country_code}_categories.csv\", \"w+\", encoding='utf-8') as file:\n",
    "        for row in country_data:\n",
    "            file.write(f\"{row}\\n\")\n",
    "\n",
    "\n",
    "def get_data():\n",
    "    for country_code in country_codes:\n",
    "        country_data = [\",\".join(header)] + get_pages(country_code)\n",
    "        write_to_file(country_code, country_data)"
   ]
  },
  {
   "cell_type": "code",
   "execution_count": 161,
   "metadata": {},
   "outputs": [
    {
     "name": "stdout",
     "output_type": "stream",
     "text": [
      "Writing US category to file...\n"
     ]
    }
   ],
   "source": [
    "get_data()"
   ]
  }
 ],
 "metadata": {
  "kernelspec": {
   "display_name": "Python 3",
   "language": "python",
   "name": "python3"
  },
  "language_info": {
   "codemirror_mode": {
    "name": "ipython",
    "version": 3
   },
   "file_extension": ".py",
   "mimetype": "text/x-python",
   "name": "python",
   "nbconvert_exporter": "python",
   "pygments_lexer": "ipython3",
   "version": "3.7.6"
  }
 },
 "nbformat": 4,
 "nbformat_minor": 4
}
